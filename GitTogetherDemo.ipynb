{
  "nbformat": 4,
  "nbformat_minor": 0,
  "metadata": {
    "colab": {
      "provenance": []
    },
    "kernelspec": {
      "name": "python3",
      "display_name": "Python 3"
    },
    "language_info": {
      "name": "python"
    }
  },
  "cells": [
    {
      "cell_type": "code",
      "execution_count": 24,
      "metadata": {
        "colab": {
          "base_uri": "https://localhost:8080/"
        },
        "id": "0JcRdCcELCuh",
        "outputId": "82188058-1c7f-4010-8960-6be8b8dd4b10"
      },
      "outputs": [
        {
          "output_type": "stream",
          "name": "stdout",
          "text": [
            "Assistant: Multi-agent AI is a subfield of artificial intelligence that focuses on systems where multiple autonomous agents interact with each other. These agents can be software programs, robots, or any entities capable of perceiving their environment through sensors and acting upon it through actuators.\n",
            "\n",
            "### Key Characteristics of Multi-Agent Systems:\n",
            "\n",
            "1. **Autonomy**: Each agent operates without direct intervention from humans or other agents. They have control over their actions and internal states.\n",
            "\n",
            "2. **Local Views**: Agents have incomplete information or capabilities for solving a problem. They may have their own perception of the environment, which may not be complete compared to that of the system as a whole.\n",
            "\n",
            "3. **Decentralization**: There is usually no central control over the system. Agents may only have local interactions, which means that they need to cooperate, coordinate, and negotiate to achieve global objectives or resolve conflicts.\n",
            "\n",
            "### Applications of Multi-Agent AI:\n",
            "\n",
            "- **Simulation**: Modeling and simulating complex systems such as traffic flows or social systems.\n",
            "- **Robotics**: Teams of robots working together to accomplish tasks like search and rescue, pathfinding, or assembly.\n",
            "- **Distributed Problem Solving**: For example, in distributed sensor networks, where sensors need to cooperatively share information and resources.\n",
            "- **Economics and Market Simulation**: Modeling agents in an economic environment to study market behaviors and dynamics.\n",
            "- **Game Playing**: Designing AI for games that involve multiple players or entities working against or with each other, such as strategy games.\n",
            "\n",
            "### Challenges in Multi-Agent Systems:\n",
            "\n",
            "- **Communication**: Developing protocols for effective communication among agents.\n",
            "- **Cooperation and Conflict**: Agents may have competing goals which require mechanisms for negotiation and conflict resolution.\n",
            "- **Scalability and Complexity**: Coordinating a large number of agents with interactions can be complex.\n",
            "- **Learning and Adaptation**: Enabling agents to learn from their environment and adapt their strategies over time.\n",
            "\n",
            "Multi-agent systems are a robust approach to tackling problems that involve multiple actors or perspectives, and they have become increasingly relevant as the complexity of tasks grows and as AI systems are required to operate in more dynamic and uncertain environments.\n"
          ]
        }
      ],
      "source": [
        "from openai import OpenAI\n",
        "client = OpenAI(\n",
        "  base_url = \"https://api.us-east-1.langdb.ai/9ec9ba98-f8e9-4527-b437-ea5303fca14e/v1\", # LangDB API base URL,\n",
        "  api_key = \"langdb_NzVDdUdZc3FmTzlFODZkclQ1QUxHazBXaTVBYUw1SGNPSER3elVvcklJSDZQdmtJeS91aUF5S0FSNWdyZEFpZmozUUNZSXphRGxTRzZpWG5aR3pXUm1YdXViSzlFTXd6a0IvVVQ4bHBBREh0Qm0vTklIOVNaaVZPcWZIQTZrUzIyQXhXVFFEM1ZEUTlIWnZhY05mSG94eW8yVkZ1WlcvNERWeWhMcTJ0KzVZZ0wzTHlma2dWcFF1Q2ozN1JCayt1bFVGYkRnPT06QUFBQUFBQUFBQUFBQUFBQQ==\"\n",
        ")\n",
        "response = client.chat.completions.create(\n",
        "  model = \"openai/gpt-4o\",\n",
        "  messages = [{\n",
        "      \"role\": \"system\",\n",
        "      \"content\": \"You are a helpful assistant teaching me AI.\"\n",
        "    },\n",
        "    {\n",
        "      \"role\": \"user\",\n",
        "      \"content\": \"What is multi agent AI\"\n",
        "    }\n",
        "  ]\n",
        ")\n",
        "print(\"Assistant:\", response.choices[0].message.content)\n"
      ]
    },
    {
      "cell_type": "code",
      "source": [
        "\n",
        "#Lets's try another model\n",
        "\n",
        "response = client.chat.completions.create(\n",
        "  model = \"anthropic/claude-3-5-sonnet-20240620\",\n",
        "  messages = [{\n",
        "      \"role\": \"system\",\n",
        "      \"content\": \"You are a helpful assistant teaching me AI\"\n",
        "    },\n",
        "    {\n",
        "      \"role\": \"user\",\n",
        "      \"content\": \"What is multi agent AI\"\n",
        "    }\n",
        "  ],\n",
        "  extra_headers={\"x-thread-id\": str(uuid4()),\n",
        "                   \"x-run-id\": str(uuid4())}\n",
        ")\n",
        "print(\"Assistant:\", response.choices[0].message.content)"
      ],
      "metadata": {
        "colab": {
          "base_uri": "https://localhost:8080/"
        },
        "outputId": "f82c5970-9c6b-41e4-e2aa-7e29eb8cd9b3",
        "id": "4O1Zed08Qqnc"
      },
      "execution_count": 27,
      "outputs": [
        {
          "output_type": "stream",
          "name": "stdout",
          "text": [
            "Assistant: Multi-agent AI refers to systems or environments where multiple artificial intelligence agents interact, cooperate, or compete with each other to achieve individual or collective goals. These agents can be autonomous or semi-autonomous, and they can have varying degrees of intelligence and capabilities.\n",
            "\n",
            "Key aspects of multi-agent AI include:\n",
            "\n",
            "1. Interaction: Agents communicate and interact with each other and their environment.\n",
            "\n",
            "2. Cooperation: Agents may work together to solve complex problems or achieve shared objectives.\n",
            "\n",
            "3. Competition: In some scenarios, agents may compete for resources or to achieve conflicting goals.\n",
            "\n",
            "4. Coordination: Agents need to coordinate their actions to avoid conflicts and optimize outcomes.\n",
            "\n",
            "5. Decentralized decision-making: Each agent makes decisions based on its own knowledge and goals, without central control.\n",
            "\n",
            "6. Emergent behavior: Complex system-level behaviors can emerge from the interactions of multiple simple agents.\n",
            "\n",
            "7. Learning: Agents can adapt and improve their performance through experience and interaction with other agents.\n",
            "\n",
            "Applications of multi-agent AI include:\n",
            "\n",
            "1. Swarm robotics\n",
            "2. Traffic management systems\n",
            "3. Supply chain optimization\n",
            "4. Financial market simulations\n",
            "5. Multiplayer game AI\n",
            "6. Distributed problem-solving\n",
            "7. Smart grids and energy management\n",
            "8. Autonomous vehicle coordination\n",
            "\n",
            "Multi-agent AI presents unique challenges in areas such as communication protocols, coordination strategies, conflict resolution, and scalability. It also offers advantages in terms of robustness, flexibility, and the ability to solve complex, distributed problems.\n"
          ]
        }
      ]
    },
    {
      "cell_type": "code",
      "source": [
        "routing_extra_body = {\n",
        "                    \"extra\": {\n",
        "                        \"name\": \"Test\",\n",
        "                        \"strategy\": {\"type\": \"percentage\", \"willingness_to_pay\": 0.2},\n",
        "                        \"models\": [\"anthropic/claude-3-5-sonnet-20240620\",\"openai/gpt-4o\"],\n",
        "                    }\n",
        "                }"
      ],
      "metadata": {
        "id": "6_kVquHrM0Lz"
      },
      "execution_count": 25,
      "outputs": []
    },
    {
      "cell_type": "code",
      "source": [
        "from uuid import uuid4\n",
        "\n",
        "client = OpenAI(\n",
        "  base_url = \"https://api.us-east-1.langdb.ai/9ec9ba98-f8e9-4527-b437-ea5303fca14e/v1\", # LangDB API base URL,\n",
        "  api_key = \"langdb_NzVDdUdZc3FmTzlFODZkclQ1QUxHazBXaTVBYUw1SGNPSER3elVvcklJSDZQdmtJeS91aUF5S0FSNWdyZEFpZmozUUNZSXphRGxTRzZpWG5aR3pXUm1YdXViSzlFTXd6a0IvVVQ4bHBBREh0Qm0vTklIOVNaaVZPcWZIQTZrUzIyQXhXVFFEM1ZEUTlIWnZhY05mSG94eW8yVkZ1WlcvNERWeWhMcTJ0KzVZZ0wzTHlma2dWcFF1Q2ozN1JCayt1bFVGYkRnPT06QUFBQUFBQUFBQUFBQUFBQQ==\"\n",
        ")\n",
        "response = client.chat.completions.create(\n",
        "  model = \"openai/gpt-4o\",\n",
        "  messages = [{\n",
        "      \"role\": \"system\",\n",
        "      \"content\": \"You are a helpful assistant teaching me AI\"\n",
        "    },\n",
        "    {\n",
        "      \"role\": \"user\",\n",
        "      \"content\": \"What is multi agent AI\"\n",
        "    }\n",
        "  ],\n",
        "  extra_body=routing_extra_body,\n",
        "  extra_headers={\"x-thread-id\": str(uuid4()),\n",
        "                   \"x-run-id\": str(uuid4())}\n",
        ")\n",
        "print(\"Assistant:\", response.choices[0].message.content)"
      ],
      "metadata": {
        "colab": {
          "base_uri": "https://localhost:8080/"
        },
        "id": "v9PmXLezNeBH",
        "outputId": "cad12de0-68f4-4956-cf1e-403b45962c1a"
      },
      "execution_count": 26,
      "outputs": [
        {
          "output_type": "stream",
          "name": "stdout",
          "text": [
            "Assistant: Multi-agent AI refers to systems that involve multiple intelligent agents interacting with one another. An agent in this context is any entity that can perceive its environment through sensors and act upon that environment using actuators. Each agent in a multi-agent system (MAS) is typically characterized by its autonomy, ability to learn and adapt, and its pursuit of specific objectives.\n",
            "\n",
            "Key aspects of multi-agent AI include:\n",
            "\n",
            "1. **Autonomy**: Agents operate without direct intervention from humans or other agents and have control over their actions and internal state.\n",
            "\n",
            "2. **Interaction**: Agents interact with each other to achieve individual or shared goals. These interactions might involve cooperation, competition, negotiation, or coordination.\n",
            "\n",
            "3. **Distributed Problem Solving**: Instead of having a single monolithic AI solving a problem, tasks can be distributed among multiple agents, which can lead to more efficient and scalable solutions.\n",
            "\n",
            "4. **Emergence**: Complex behaviors can emerge from simple interactions between agents, leading to solutions or behaviors that weren't explicitly programmed.\n",
            "\n",
            "5. **Applications**: Multi-agent systems have numerous applications across various fields, including robotics (e.g., swarm robotics), distributed control systems, simulation (e.g., social phenomena, traffic), economics (e.g., market simulations), and gaming (e.g., NPCs in video games).\n",
            "\n",
            "Designing a multi-agent system involves addressing challenges such as communication protocols between agents, coordination strategies, conflict resolution, and ensuring global system stability.\n"
          ]
        }
      ]
    }
  ]
}